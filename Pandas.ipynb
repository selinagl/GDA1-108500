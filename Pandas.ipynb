{
 "cells": [
  {
   "cell_type": "markdown",
   "id": "6baff1dd-6199-4065-99ff-d99c6bff4ff8",
   "metadata": {},
   "source": [
    "![Pandas!](Pandas.webp \"Pandas\")"
   ]
  },
  {
   "cell_type": "markdown",
   "id": "7ca5d186-77c6-4595-a36f-505fb8d1582e",
   "metadata": {},
   "source": [
    "[Pandas](https://pandas.pydata.org/) is a powerful and versatile library for Python, designed primarily for data manipulation and analysis. To quote from Nvidia’s website:"
   ]
  },
  {
   "cell_type": "markdown",
   "id": "75bce610-6970-4468-a2b9-9945efffb4f3",
   "metadata": {},
   "source": [
    "> Pandas is the most popular software library for data manipulation and data analysis for the Python programming language. [(www.nvidia.com)](https://www.nvidia.com/en-us/glossary/pandas-python/)"
   ]
  },
  {
   "cell_type": "markdown",
   "id": "e70bdf52-ccb7-4960-be11-a580e60afb3c",
   "metadata": {},
   "source": [
    "Here is an (incomplete) list of some key functionalities provided by Pandas:"
   ]
  },
  {
   "cell_type": "markdown",
   "id": "2df3726c-cec6-469a-ae17-ae1bb4644ee0",
   "metadata": {},
   "source": [
    "1. **Data Structures**\n",
    "- Series: One-dimensional labeled array capable of holding data of any type.\n",
    "- DataFrame: Two-dimensional, size-mutable, potentially heterogeneous tabular data structure with labeled axes (rows and columns).\n",
    "2. **Data Manipulation**\n",
    "- Data Selection and Indexing: Access data via labels, indices, or boolean masks (.loc, .iloc, .at, .iat).\n",
    "- Filtering: Filter data based on conditions or queries.\n",
    "- Sorting: Sort data by labels or values.\n",
    "- Handling Missing Data: Identify, fill, or drop missing values (isnull, dropna, fillna).\n",
    "3. **Data Cleaning**\n",
    "- Dropping Duplicates: Remove duplicate rows or columns.\n",
    "- Replacing Values: Replace specific values in the DataFrame.\n",
    "- String Operations: Perform operations on string data, like splitting, replacing, and pattern matching (str.split, str.replace).\n",
    "4. **Aggregation and Grouping**\n",
    "- Group By: Split data into groups based on criteria, and perform aggregate functions like sum, mean, or custom operations.\n",
    "- Pivot Tables: Create a pivot table to summarize data.\n",
    "5. **Merging and Joining**\n",
    "- Concatenation: Combine multiple DataFrames along a particular axis.\n",
    "- Merging: Merge DataFrames similar to SQL joins (merge, join).\n",
    "6. **Time Series**\n",
    "- Datetime Conversion: Convert date and time data to a datetime object.\n",
    "- Resampling: Aggregate data over a time period.\n",
    "- Time-based Indexing: Access and manipulate time-series data easily with date indexing.\n",
    "7. **Statistical and Mathematical Operations**\n",
    "- Descriptive Statistics: Compute summary statistics for DataFrame columns.\n",
    "- Correlation/ Covariance: Calculate the pairwise correlation or covariance between columns.\n",
    "- Cumulative Operations: Perform cumulative operations on data."
   ]
  },
  {
   "cell_type": "markdown",
   "id": "d8aaaefd-c965-4124-9673-142a0f0f9a29",
   "metadata": {},
   "source": [
    "At the heart of Pandas lies the DataFrame, a two-dimensional labeled data structure with columns of potentially different types, similar to a table in a relational database or an Excel spreadsheet. Understanding DataFrames is crucial for anyone looking to perform data analysis in Python."
   ]
  },
  {
   "cell_type": "markdown",
   "id": "98d932b9-430e-479b-a036-5360f84c2bdc",
   "metadata": {},
   "source": [
    "# What is a DataFrame?"
   ]
  },
  {
   "cell_type": "markdown",
   "id": "759a64ea-b9ba-4b75-9a2f-4909f6cb4029",
   "metadata": {},
   "source": [
    "---"
   ]
  },
  {
   "cell_type": "markdown",
   "id": "3d0ea3a1-4682-4e3f-b332-a5ae5abc3df0",
   "metadata": {},
   "source": [
    "A DataFrame is a table-like structure in Pandas that consists of rows and columns, where each column can hold different data types (e.g., integers, floats, strings). You can think of it as a collection of Series objects, where each Series is a single column of data. DataFrames provide a highly efficient way to store and manipulate large datasets in memory."
   ]
  },
  {
   "cell_type": "markdown",
   "id": "aecdbd9d-dcb8-4758-95e8-bc84325ae8db",
   "metadata": {},
   "source": [
    "# Creating a DataFrame"
   ]
  },
  {
   "cell_type": "markdown",
   "id": "f0b340a5-4f86-4b7e-8f31-e7b2c9ab8fd8",
   "metadata": {},
   "source": [
    "---"
   ]
  },
  {
   "cell_type": "markdown",
   "id": "8ba72fbb-3e76-429a-9034-79312787d337",
   "metadata": {},
   "source": [
    "There are several ways to create a DataFrame in Pandas, but some of the most common methods are:\n",
    "\n",
    "1. From a Dictionary\n",
    "2. From a List of Lists\n",
    "3. From a CSV File\n",
    "   \n",
    "Below we take a look at the first two approaches."
   ]
  },
  {
   "cell_type": "markdown",
   "id": "bb1c098c-5fed-44c0-95e9-9eb4340e28cb",
   "metadata": {},
   "source": [
    "## Creating DataFrame from a Dictionary"
   ]
  },
  {
   "cell_type": "markdown",
   "id": "ad73a6bb-2d05-45d2-94fd-54f31fe9c8ba",
   "metadata": {},
   "source": [
    "The following code will create a DataFrame with three columns: ‘Name’, ‘Age’, and ‘City’, and three rows corresponding to the data provided in the dictionary. To be able to use Pandas, we first have to import it. This is done using the command *import pandas as pd*, introducing the alias *pd* for Pandas."
   ]
  },
  {
   "cell_type": "markdown",
   "id": "cad83b91-66a2-49f3-bf15-36bc6fa2adce",
   "metadata": {},
   "source": [
    "````python\n",
    "import pandas as pd\n",
    "\n",
    "data = {\n",
    "    'Name': ['Alice', 'Bob', 'Charlie'],\n",
    "    'Age': [25, 30, 35],\n",
    "    'City': ['New York', 'Los Angeles', 'Chicago']\n",
    "}\n",
    "\n",
    "df = pd.DataFrame(data)\n",
    "print(df)\n",
    "````"
   ]
  },
  {
   "cell_type": "markdown",
   "id": "99928e2e-0e23-4802-8ad4-22c3970d7147",
   "metadata": {},
   "source": [
    "## Creating DataFrame from a List of Lists"
   ]
  },
  {
   "cell_type": "markdown",
   "id": "224992fb-f945-4d9e-95d5-6c0604b3c038",
   "metadata": {},
   "source": [
    "Here, we create the DataFrame from a list of lists where each inner list represents the values for one row. Note that We explicitly specify the column names when creating the DataFrame."
   ]
  },
  {
   "cell_type": "markdown",
   "id": "b1f9a372-b2f0-4620-81df-b1d405e2e50f",
   "metadata": {},
   "source": [
    "```python\n",
    "data = [\n",
    "    ['Alice', 25, 'New York'],\n",
    "    ['Bob', 30, 'Los Angeles'],\n",
    "    ['Charlie', 35, 'Chicago']\n",
    "]\n",
    "\n",
    "df = pd.DataFrame(data, columns=['Name', 'Age', 'City'])\n",
    "print(df)\n",
    "```"
   ]
  },
  {
   "cell_type": "markdown",
   "id": "dd48d42a-1646-4529-91b6-31fe0c84f779",
   "metadata": {},
   "source": [
    "# Accessing Data in a DataFrame"
   ]
  },
  {
   "cell_type": "markdown",
   "id": "2ade2f4f-65d6-4097-8f92-8e21d38855b7",
   "metadata": {},
   "source": [
    "---"
   ]
  },
  {
   "cell_type": "markdown",
   "id": "d961f688-7630-41c5-99c5-6fac6a263dfb",
   "metadata": {},
   "source": [
    "Once you have a DataFrame, you can access its data in various ways:"
   ]
  },
  {
   "cell_type": "markdown",
   "id": "d9727cb6-080f-4f05-bf04-2f563b05b2cc",
   "metadata": {},
   "source": [
    "- By column name:"
   ]
  },
  {
   "cell_type": "markdown",
   "id": "4b342a25-5182-4b23-9b0f-63f166007f5c",
   "metadata": {},
   "source": [
    "```python\n",
    "print(df['Name'])\n",
    "```"
   ]
  },
  {
   "cell_type": "markdown",
   "id": "91fd2b8c-8ab1-477a-8bdb-6a97cc9c2be6",
   "metadata": {},
   "source": [
    "- By row index:"
   ]
  },
  {
   "cell_type": "markdown",
   "id": "297779ee-9ce2-4a4d-9b11-890be36b4791",
   "metadata": {},
   "source": [
    "```python\n",
    "print(df.iloc[0])\n",
    "```"
   ]
  },
  {
   "cell_type": "markdown",
   "id": "d11c3399-e4ca-4530-8625-5a192d373911",
   "metadata": {},
   "source": [
    "- Using both:"
   ]
  },
  {
   "cell_type": "markdown",
   "id": "717a3e8c-6d3c-44d2-b8be-65d4319e3004",
   "metadata": {},
   "source": [
    "```python\n",
    "print(df.loc[0, 'Name'])\n",
    "```"
   ]
  },
  {
   "cell_type": "code",
   "execution_count": null,
   "id": "c86571ac-84ef-4c9c-9ba5-df59ea70dd4c",
   "metadata": {},
   "outputs": [],
   "source": []
  }
 ],
 "metadata": {
  "kernelspec": {
   "display_name": "Python 3 (ipykernel)",
   "language": "python",
   "name": "python3"
  },
  "language_info": {
   "codemirror_mode": {
    "name": "ipython",
    "version": 3
   },
   "file_extension": ".py",
   "mimetype": "text/x-python",
   "name": "python",
   "nbconvert_exporter": "python",
   "pygments_lexer": "ipython3",
   "version": "3.12.7"
  }
 },
 "nbformat": 4,
 "nbformat_minor": 5
}
