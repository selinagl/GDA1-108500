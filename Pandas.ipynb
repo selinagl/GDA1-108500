{
 "cells": [
  {
   "cell_type": "markdown",
   "id": "6baff1dd-6199-4065-99ff-d99c6bff4ff8",
   "metadata": {},
   "source": [
    "# Introduction to Pandas DataFrames"
   ]
  },
  {
   "cell_type": "markdown",
   "id": "30afa7f1-7374-4f4b-a55b-bc2ccf6a259e",
   "metadata": {},
   "source": [
    "![Pandas!](Pandas.webp \"Pandas\")"
   ]
  },
  {
   "cell_type": "markdown",
   "id": "7ca5d186-77c6-4595-a36f-505fb8d1582e",
   "metadata": {},
   "source": [
    "[Pandas](https://pandas.pydata.org/) is a powerful and versatile library for Python, designed primarily for data manipulation and analysis. To quote from Nvidia’s website:"
   ]
  },
  {
   "cell_type": "markdown",
   "id": "75bce610-6970-4468-a2b9-9945efffb4f3",
   "metadata": {},
   "source": [
    "> Pandas is the most popular software library for data manipulation and data analysis for the Python programming language. [(www.nvidia.com)](https://www.nvidia.com/en-us/glossary/pandas-python/)"
   ]
  },
  {
   "cell_type": "markdown",
   "id": "e70bdf52-ccb7-4960-be11-a580e60afb3c",
   "metadata": {},
   "source": [
    "Here is an (incomplete) list of some key functionalities provided by Pandas:"
   ]
  },
  {
   "cell_type": "markdown",
   "id": "2df3726c-cec6-469a-ae17-ae1bb4644ee0",
   "metadata": {},
   "source": [
    "1. **Data Structures**\n",
    "- *Series:* One-dimensional labeled array capable of holding data of any type.\n",
    "- *DataFrame:* Two-dimensional, size-mutable, potentially heterogeneous tabular data structure with labeled axes (rows and columns).\n",
    "2. **Data Manipulation**\n",
    "- *Data Selection and Indexing:* Access data via labels, indices, or boolean masks (`.loc`, `.iloc`, `.at`, `.iat`).\n",
    "- *Filtering:* Filter data based on conditions or queries.\n",
    "- *Sorting:* Sort data by labels or values.\n",
    "- *Handling Missing Data:* Identify, fill, or drop missing values (isnull, dropna, fillna).\n",
    "3. **Data Cleaning**\n",
    "- *Dropping Duplicates:* Remove duplicate rows or columns.\n",
    "- *Replacing Values:* Replace specific values in the DataFrame.\n",
    "- *String Operations:* Perform operations on string data, like splitting, replacing, and pattern matching (`str.split`, `str.replace`).\n",
    "4. **Aggregation and Grouping**\n",
    "- *Group By:* Split data into groups based on criteria, and perform aggregate functions like sum, mean, or custom operations.\n",
    "- *Pivot Tables:* Create a pivot table to summarize data.\n",
    "5. **Merging and Joining**\n",
    "- *Concatenation:* Combine multiple DataFrames along a particular axis.\n",
    "- *Merging:* Merge DataFrames similar to SQL joins (`merge`, `join`).\n",
    "6. **Time Series**\n",
    "- *Datetime Conversion:* Convert date and time data to a datetime object.\n",
    "- *Resampling:* Aggregate data over a time period.\n",
    "- *Time-based Indexing:* Access and manipulate time-series data easily with date indexing.\n",
    "7. **Statistical and Mathematical Operations**\n",
    "- *Descriptive Statistics:* Compute summary statistics for DataFrame columns.\n",
    "- *Correlation/ Covariance:* Calculate the pairwise correlation or covariance between columns.\n",
    "- *Cumulative Operations:* Perform cumulative operations on data."
   ]
  },
  {
   "cell_type": "markdown",
   "id": "d8aaaefd-c965-4124-9673-142a0f0f9a29",
   "metadata": {},
   "source": [
    "At the heart of Pandas lies the DataFrame, a two-dimensional labeled data structure with columns of potentially different types, similar to a table in a relational database or an Excel spreadsheet. Understanding DataFrames is crucial for anyone looking to perform data analysis in Python."
   ]
  },
  {
   "cell_type": "markdown",
   "id": "2a5202d6-6718-4cb9-bfb0-ed6b7cd85c7b",
   "metadata": {},
   "source": [
    "## What is a DataFrame?"
   ]
  },
  {
   "cell_type": "markdown",
   "id": "759a64ea-b9ba-4b75-9a2f-4909f6cb4029",
   "metadata": {},
   "source": [
    "---"
   ]
  },
  {
   "cell_type": "markdown",
   "id": "3d0ea3a1-4682-4e3f-b332-a5ae5abc3df0",
   "metadata": {},
   "source": [
    "A DataFrame is a table-like structure in Pandas that consists of rows and columns, where each column can hold different data types (e.g., integers, floats, strings). You can think of it as a collection of Series objects, where each Series is a single column of data. DataFrames provide a highly efficient way to store and manipulate large datasets in memory."
   ]
  },
  {
   "cell_type": "markdown",
   "id": "aecdbd9d-dcb8-4758-95e8-bc84325ae8db",
   "metadata": {},
   "source": [
    "## Creating a DataFrame"
   ]
  },
  {
   "cell_type": "markdown",
   "id": "f0b340a5-4f86-4b7e-8f31-e7b2c9ab8fd8",
   "metadata": {},
   "source": [
    "---"
   ]
  },
  {
   "cell_type": "markdown",
   "id": "8ba72fbb-3e76-429a-9034-79312787d337",
   "metadata": {},
   "source": [
    "There are several ways to create a DataFrame in Pandas, but some of the most common methods are:\n",
    "\n",
    "1. From a Dictionary\n",
    "2. From a List of Lists\n",
    "3. From a CSV File\n",
    "   \n",
    "Below we take a look at the first two approaches."
   ]
  },
  {
   "cell_type": "markdown",
   "id": "bb1c098c-5fed-44c0-95e9-9eb4340e28cb",
   "metadata": {},
   "source": [
    "### Creating DataFrame from a Dictionary"
   ]
  },
  {
   "cell_type": "markdown",
   "id": "c0688405-1092-47be-b525-dd9cc4f4ed21",
   "metadata": {},
   "source": [
    "The following code will create a DataFrame with three columns: ‘Name’, ‘Age’, and ‘City’, and three rows corresponding to the data provided in the dictionary. To be able to use Pandas, we first have to import it. This is done using the command `import pandas as pd`, introducing the alias `pd` for Pandas."
   ]
  },
  {
   "cell_type": "code",
   "execution_count": 11,
   "id": "ec69af90-92cd-4622-87f1-74dccc92b879",
   "metadata": {},
   "outputs": [
    {
     "data": {
      "text/html": [
       "<div>\n",
       "<style scoped>\n",
       "    .dataframe tbody tr th:only-of-type {\n",
       "        vertical-align: middle;\n",
       "    }\n",
       "\n",
       "    .dataframe tbody tr th {\n",
       "        vertical-align: top;\n",
       "    }\n",
       "\n",
       "    .dataframe thead th {\n",
       "        text-align: right;\n",
       "    }\n",
       "</style>\n",
       "<table border=\"1\" class=\"dataframe\">\n",
       "  <thead>\n",
       "    <tr style=\"text-align: right;\">\n",
       "      <th></th>\n",
       "      <th>Name</th>\n",
       "      <th>Age</th>\n",
       "      <th>City</th>\n",
       "    </tr>\n",
       "  </thead>\n",
       "  <tbody>\n",
       "    <tr>\n",
       "      <th>0</th>\n",
       "      <td>Alice</td>\n",
       "      <td>25</td>\n",
       "      <td>New York</td>\n",
       "    </tr>\n",
       "    <tr>\n",
       "      <th>1</th>\n",
       "      <td>Bob</td>\n",
       "      <td>30</td>\n",
       "      <td>Los Angeles</td>\n",
       "    </tr>\n",
       "    <tr>\n",
       "      <th>2</th>\n",
       "      <td>Charlie</td>\n",
       "      <td>35</td>\n",
       "      <td>Chicago</td>\n",
       "    </tr>\n",
       "  </tbody>\n",
       "</table>\n",
       "</div>"
      ],
      "text/plain": [
       "      Name  Age         City\n",
       "0    Alice   25     New York\n",
       "1      Bob   30  Los Angeles\n",
       "2  Charlie   35      Chicago"
      ]
     },
     "execution_count": 11,
     "metadata": {},
     "output_type": "execute_result"
    }
   ],
   "source": [
    "import pandas as pd\n",
    "\n",
    "data = {\n",
    "    'Name': ['Alice', 'Bob', 'Charlie'],\n",
    "    'Age': [25, 30, 35],\n",
    "    'City': ['New York', 'Los Angeles', 'Chicago']\n",
    "}\n",
    "\n",
    "df = pd.DataFrame(data)\n",
    "df"
   ]
  },
  {
   "cell_type": "markdown",
   "id": "99928e2e-0e23-4802-8ad4-22c3970d7147",
   "metadata": {},
   "source": [
    "### Creating DataFrame from a List of Lists"
   ]
  },
  {
   "cell_type": "markdown",
   "id": "224992fb-f945-4d9e-95d5-6c0604b3c038",
   "metadata": {},
   "source": [
    "Here, we create the DataFrame from a list of lists where each inner list represents the values for one row. Note that We explicitly specify the column names when creating the DataFrame."
   ]
  },
  {
   "cell_type": "code",
   "execution_count": 12,
   "id": "19660295-603a-447f-8ef0-3fe7974c2236",
   "metadata": {},
   "outputs": [
    {
     "data": {
      "text/html": [
       "<div>\n",
       "<style scoped>\n",
       "    .dataframe tbody tr th:only-of-type {\n",
       "        vertical-align: middle;\n",
       "    }\n",
       "\n",
       "    .dataframe tbody tr th {\n",
       "        vertical-align: top;\n",
       "    }\n",
       "\n",
       "    .dataframe thead th {\n",
       "        text-align: right;\n",
       "    }\n",
       "</style>\n",
       "<table border=\"1\" class=\"dataframe\">\n",
       "  <thead>\n",
       "    <tr style=\"text-align: right;\">\n",
       "      <th></th>\n",
       "      <th>Name</th>\n",
       "      <th>Age</th>\n",
       "      <th>City</th>\n",
       "    </tr>\n",
       "  </thead>\n",
       "  <tbody>\n",
       "    <tr>\n",
       "      <th>0</th>\n",
       "      <td>Alice</td>\n",
       "      <td>25</td>\n",
       "      <td>New York</td>\n",
       "    </tr>\n",
       "    <tr>\n",
       "      <th>1</th>\n",
       "      <td>Bob</td>\n",
       "      <td>30</td>\n",
       "      <td>Los Angeles</td>\n",
       "    </tr>\n",
       "    <tr>\n",
       "      <th>2</th>\n",
       "      <td>Charlie</td>\n",
       "      <td>35</td>\n",
       "      <td>Chicago</td>\n",
       "    </tr>\n",
       "  </tbody>\n",
       "</table>\n",
       "</div>"
      ],
      "text/plain": [
       "      Name  Age         City\n",
       "0    Alice   25     New York\n",
       "1      Bob   30  Los Angeles\n",
       "2  Charlie   35      Chicago"
      ]
     },
     "execution_count": 12,
     "metadata": {},
     "output_type": "execute_result"
    }
   ],
   "source": [
    "data = [\n",
    "    ['Alice', 25, 'New York'],\n",
    "    ['Bob', 30, 'Los Angeles'],\n",
    "    ['Charlie', 35, 'Chicago']\n",
    "]\n",
    "\n",
    "df = pd.DataFrame(data, columns=['Name', 'Age', 'City'])\n",
    "df"
   ]
  },
  {
   "cell_type": "markdown",
   "id": "dd48d42a-1646-4529-91b6-31fe0c84f779",
   "metadata": {},
   "source": [
    "## Accessing Data in a DataFrame"
   ]
  },
  {
   "cell_type": "markdown",
   "id": "2ade2f4f-65d6-4097-8f92-8e21d38855b7",
   "metadata": {},
   "source": [
    "---"
   ]
  },
  {
   "cell_type": "markdown",
   "id": "d961f688-7630-41c5-99c5-6fac6a263dfb",
   "metadata": {},
   "source": [
    "Once you have a DataFrame, you can access its data in various ways:"
   ]
  },
  {
   "cell_type": "markdown",
   "id": "d9727cb6-080f-4f05-bf04-2f563b05b2cc",
   "metadata": {},
   "source": [
    "- By column name:"
   ]
  },
  {
   "cell_type": "code",
   "execution_count": 13,
   "id": "cc038569-a5ca-477e-9525-7934bf341308",
   "metadata": {},
   "outputs": [
    {
     "data": {
      "text/plain": [
       "0      Alice\n",
       "1        Bob\n",
       "2    Charlie\n",
       "Name: Name, dtype: object"
      ]
     },
     "execution_count": 13,
     "metadata": {},
     "output_type": "execute_result"
    }
   ],
   "source": [
    "df['Name']"
   ]
  },
  {
   "cell_type": "markdown",
   "id": "91fd2b8c-8ab1-477a-8bdb-6a97cc9c2be6",
   "metadata": {},
   "source": [
    "- By row index:"
   ]
  },
  {
   "cell_type": "code",
   "execution_count": 14,
   "id": "27344a2f-758c-4d32-9662-7b4dc4f169b3",
   "metadata": {},
   "outputs": [
    {
     "data": {
      "text/plain": [
       "Name       Alice\n",
       "Age           25\n",
       "City    New York\n",
       "Name: 0, dtype: object"
      ]
     },
     "execution_count": 14,
     "metadata": {},
     "output_type": "execute_result"
    }
   ],
   "source": [
    "df.iloc[0]"
   ]
  },
  {
   "cell_type": "markdown",
   "id": "d11c3399-e4ca-4530-8625-5a192d373911",
   "metadata": {},
   "source": [
    "- Using both:"
   ]
  },
  {
   "cell_type": "code",
   "execution_count": 15,
   "id": "88381183-87e5-430d-a6d0-101e34076d7b",
   "metadata": {},
   "outputs": [
    {
     "data": {
      "text/plain": [
       "'Alice'"
      ]
     },
     "execution_count": 15,
     "metadata": {},
     "output_type": "execute_result"
    }
   ],
   "source": [
    "df.loc[0, 'Name']"
   ]
  },
  {
   "cell_type": "markdown",
   "id": "182b9264-0e1e-4502-bb41-75b1887e52db",
   "metadata": {},
   "source": [
    "## Conclusion"
   ]
  },
  {
   "cell_type": "markdown",
   "id": "0158aca7-00f6-459a-9849-a68514fabda7",
   "metadata": {},
   "source": [
    "---"
   ]
  },
  {
   "cell_type": "markdown",
   "id": "0f0649ab-1220-4b5c-93f7-a85bde33add5",
   "metadata": {},
   "source": [
    "Pandas DataFrames are a fundamental tool in the data analysis toolkit for Python users. They provide a powerful way to organize, manipulate, and analyze data efficiently. Whether you’re working with small datasets or handling large-scale data, mastering DataFrames will allow you to tackle a wide range of data-related tasks with ease.\n",
    "\n",
    "In this introduction, we’ve covered the basics of what a DataFrame is, how to create one, and how to access columns, rows, and individual cells in a DataFrame. As you continue to explore Pandas, you’ll discover many more features and capabilities that make DataFrames an indispensable part of Python programming. The table below contains a number of resources related to Pandas."
   ]
  },
  {
   "cell_type": "markdown",
   "id": "17edbed0-6c79-494e-b857-c5d0621b53b3",
   "metadata": {},
   "source": [
    "---"
   ]
  },
  {
   "cell_type": "markdown",
   "id": "b25b0646-5717-49fa-9f83-bfc2f084942f",
   "metadata": {},
   "source": [
    "| Ressource            | Description  |\n",
    "| :------------------- | :---------- | \n",
    "| [Pandas Documentation](https://pandas.pydata.org/)                                             | Official documentation of Pandas.    | \n",
    "| [Python for Data Analysis](https://www.oreilly.com/library/view/python-for-data/9781491957653/)| Comprehensive guide by Pandas creator, Wes McKinney       | \n",
    "| [Real Python: Pandas Dataframe](https://realpython.com/pandas-dataframe/)                      | Tutorials on using Pandas for data analysis.      | \n",
    "| [Keggle Pandas](https://www.kaggle.com/learn/pandas)                                           | Free introductory course on Pandas by Kaggle.|\n",
    "| [DataCamp Pandas Tutorial](https://www.datacamp.com/tutorial/pandas-tutorial-dataframe-python) | Detailed tutorials and exercises on Pandas.|"
   ]
  }
 ],
 "metadata": {
  "kernelspec": {
   "display_name": "Python 3 (ipykernel)",
   "language": "python",
   "name": "python3"
  },
  "language_info": {
   "codemirror_mode": {
    "name": "ipython",
    "version": 3
   },
   "file_extension": ".py",
   "mimetype": "text/x-python",
   "name": "python",
   "nbconvert_exporter": "python",
   "pygments_lexer": "ipython3",
   "version": "3.11.10"
  }
 },
 "nbformat": 4,
 "nbformat_minor": 5
}
